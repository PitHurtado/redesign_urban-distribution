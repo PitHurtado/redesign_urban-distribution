{
 "cells": [
  {
   "cell_type": "markdown",
   "source": [
    "# 0. Load Libraries"
   ],
   "metadata": {
    "collapsed": false
   }
  },
  {
   "cell_type": "code",
   "execution_count": null,
   "outputs": [],
   "source": [
    "import os\n",
    "import json\n",
    "\n",
    "import models\n",
    "import utils\n",
    "from classes import  Locatable, Satellite, Cluster, Vehicle\n",
    "from drawingmap import DrawingMap"
   ],
   "metadata": {
    "collapsed": false
   }
  },
  {
   "cell_type": "markdown",
   "source": [
    "# 1. Load Data"
   ],
   "metadata": {
    "collapsed": false
   }
  },
  {
   "cell_type": "markdown",
   "source": [
    "## 1.1. Satellites"
   ],
   "metadata": {
    "collapsed": false
   }
  },
  {
   "cell_type": "code",
   "execution_count": null,
   "outputs": [],
   "source": [
    "satellites, df_satellites = utils.LoadingData.load_satellites(DEBUG=False)\n",
    "print(f'Cantidad de satellites cargados: {len(satellites)}')"
   ],
   "metadata": {
    "collapsed": false
   }
  },
  {
   "cell_type": "markdown",
   "source": [
    "## 1.2. Customer Clusters"
   ],
   "metadata": {
    "collapsed": false
   }
  },
  {
   "cell_type": "code",
   "execution_count": null,
   "outputs": [],
   "source": [
    "clusters, df_clusters = utils.LoadingData.load_customer_clusters(DEBUG=False)\n",
    "print(f'Cantidad de clusters cargados: {len(clusters)}')"
   ],
   "metadata": {
    "collapsed": false
   }
  },
  {
   "cell_type": "markdown",
   "source": [
    "## 1.3. Load Vehicles"
   ],
   "metadata": {
    "collapsed": false
   }
  },
  {
   "cell_type": "code",
   "execution_count": null,
   "outputs": [],
   "source": [
    "small_vehicle = Vehicle(id='small'\n",
    "                        , type='small'\n",
    "                        , capacity=12\n",
    "                        , costFixed=20\n",
    "                        , time_service=0.05\n",
    "                        , time_fixed=0.05\n",
    "                        , time_load=0.0072\n",
    "                        , time_dispatch=0.625\n",
    "                        , speed_line=40\n",
    "                        , Tmax=12\n",
    "                        , k=1.3)\n",
    "large_vehicle = Vehicle(id='large'\n",
    "                        , type='large'\n",
    "                        , capacity=53\n",
    "                        , costFixed=268\n",
    "                        , time_service=0.05\n",
    "                        , time_fixed=0.05\n",
    "                        , time_load=0.0142\n",
    "                        , time_dispatch=0.75\n",
    "                        , speed_line=80\n",
    "                        , Tmax=12\n",
    "                        , k=1.3)"
   ],
   "metadata": {
    "collapsed": false
   }
  },
  {
   "cell_type": "markdown",
   "source": [
    "## 1.4. Load Matrixes: Distance and Durations with and without traffic"
   ],
   "metadata": {
    "collapsed": false
   }
  },
  {
   "cell_type": "markdown",
   "source": [
    "### 1.4.1. From Satellites to Clusters"
   ],
   "metadata": {
    "collapsed": false
   }
  },
  {
   "cell_type": "code",
   "execution_count": null,
   "outputs": [],
   "source": [
    "matrixes_from_satellites = utils.LoadingData.load_distances_duration_matrix_from_satellite()"
   ],
   "metadata": {
    "collapsed": false
   }
  },
  {
   "cell_type": "markdown",
   "source": [
    "### 1.4.2. From DC to Clusters"
   ],
   "metadata": {
    "collapsed": false
   }
  },
  {
   "cell_type": "code",
   "execution_count": null,
   "outputs": [],
   "source": [
    "matrixes_from_dc = utils.LoadingData.load_distances_duration_matrix_from_dc()"
   ],
   "metadata": {
    "collapsed": false
   }
  },
  {
   "cell_type": "markdown",
   "source": [
    "# 2. Drawing Map"
   ],
   "metadata": {
    "collapsed": false
   }
  },
  {
   "cell_type": "markdown",
   "source": [
    "## 2.1. La Paz with customer segments"
   ],
   "metadata": {
    "collapsed": false
   }
  },
  {
   "cell_type": "code",
   "execution_count": null,
   "outputs": [],
   "source": [
    "location_la_paz = (-16.501457, -68.149887)\n",
    "location_DC = (-16.5354544, -68.1958506)\n",
    "\n",
    "drawer = DrawingMap(location_la_paz)\n",
    "\n",
    "drawer.addNodes(list_locatables=list(clusters.values()), color=\"blue\", radius=1)\n",
    "drawer.addNodes(list_locatables=list(satellites.values()), color='red', radius=3)\n",
    "drawer.addMarker(location=location_DC, label='DC')\n",
    "\n",
    "map = drawer.viewMap()\n",
    "map"
   ],
   "metadata": {
    "collapsed": false
   }
  },
  {
   "cell_type": "markdown",
   "source": [
    "# 3. Generate Params"
   ],
   "metadata": {
    "collapsed": false
   }
  },
  {
   "cell_type": "code",
   "execution_count": null,
   "outputs": [],
   "source": [
    "periods = 10\n",
    "\n",
    "params_gurobi = {\n",
    "    'timeLimit':36000,\n",
    "    'MIPGap':0.05\n",
    "}"
   ],
   "metadata": {
    "collapsed": false
   }
  },
  {
   "cell_type": "markdown",
   "source": [
    "## 3.1. Average Fleet Size\n",
    "#### a) From Satellite to Customer Cluster"
   ],
   "metadata": {
    "collapsed": false
   }
  },
  {
   "cell_type": "code",
   "execution_count": null,
   "outputs": [],
   "source": [
    "config_ = utils.ConfigDeterministic()\n",
    "fleet_size_satellites = config_.calculate_avg_fleet_size_from_satellites(satellites=satellites, clusters=clusters, vehicle=small_vehicle\n",
    "                                                                         ,periods=periods, distances_linehaul=matrixes_from_satellites['distance'])"
   ],
   "metadata": {
    "collapsed": false
   }
  },
  {
   "cell_type": "markdown",
   "source": [
    "#### b) From DC to Customer Cluster"
   ],
   "metadata": {
    "collapsed": false
   }
  },
  {
   "cell_type": "code",
   "execution_count": null,
   "outputs": [],
   "source": [
    "fleet_size_dc = config_.calculate_avg_fleet_size_from_dc(clusters=clusters, vehicle=large_vehicle, periods=periods\n",
    "                                                         , distances_linehaul=matrixes_from_dc['distance'])"
   ],
   "metadata": {
    "collapsed": false
   }
  },
  {
   "cell_type": "markdown",
   "source": [
    "## 3.3. Cost *$c_{sk}^{t}$* and *$g_{k}{t}$*"
   ],
   "metadata": {
    "collapsed": false
   }
  },
  {
   "cell_type": "code",
   "execution_count": null,
   "outputs": [],
   "source": [
    "# determinar cost of shipping"
   ],
   "metadata": {
    "collapsed": false
   }
  },
  {
   "cell_type": "code",
   "execution_count": null,
   "outputs": [],
   "source": [
    "def cost_satellite_cluster_period(satellites: list[Satellite],\n",
    "                                  clusters: list[Cluster],\n",
    "                                  cost_shipping: dict[(str, str), float],\n",
    "                                  vehicle_small: Vehicle,\n",
    "                                  periods: int,\n",
    "                                  vehicles_required: dict[str, dict]) -> dict[(str,str,int), float]:\n",
    "    costs = {}\n",
    "    for t in range(periods):\n",
    "        for k in clusters:\n",
    "            for s in satellites:\n",
    "                costs[(s.id, k.id, t)] = (s.costSourcing*k.demand[t]) + (cost_shipping[(s.id, k.id)]*k.demand[t]) + \\\n",
    "                                         (vehicle_small.costFixed*vehicles_required['satellite'][(s.id, k.id, t)])\n",
    "    return costs\n",
    "\n",
    "def cost_dc_cluster_period(clusters: list[Cluster],\n",
    "                           cost_shipping: dict[str, float],\n",
    "                           vehicle_large: Vehicle,\n",
    "                           periods: int,\n",
    "                           vehicles_required: dict[str, dict]) -> dict[(str,int), float]:\n",
    "    costs = {}\n",
    "    for t in range(periods):\n",
    "        for k in clusters:\n",
    "            costs[(k.id, t)] = (cost_shipping[k.id] * k.demand[t]) + (vehicle_large.costFixed * vehicles_required['dc'][(k.id, t)])\n",
    "    return costs"
   ],
   "metadata": {
    "collapsed": false
   }
  },
  {
   "cell_type": "code",
   "execution_count": null,
   "outputs": [],
   "source": [
    "cost_C = cost_satellite_cluster_period(satellites, clusters\n",
    "                                       ,cost_shipping=None\n",
    "                                       ,vehicle_small=small_vehicle\n",
    "                                       ,periods=periods\n",
    "                                       ,vehicles_required=fleet_size_satellites)\n",
    "\n",
    "cost_G = cost_dc_cluster_period(clusters\n",
    "                                ,cost_shipping=None\n",
    "                                ,vehicle_large=large_vehicle\n",
    "                                ,periods=periods\n",
    "                                ,vehicles_required=fleet_size_dc)"
   ],
   "metadata": {
    "collapsed": false
   }
  },
  {
   "cell_type": "markdown",
   "source": [
    "# 4. Model Deterministic"
   ],
   "metadata": {
    "collapsed": false
   }
  },
  {
   "cell_type": "code",
   "execution_count": null,
   "outputs": [],
   "source": [
    "model_ = models.ModelDeterministic(periods=periods)"
   ],
   "metadata": {
    "collapsed": false
   }
  },
  {
   "cell_type": "code",
   "execution_count": null,
   "outputs": [],
   "source": [
    "model_.build(satellites=satellites\n",
    "             ,clusters=clusters\n",
    "             ,vehicles_required={'small':fleet_size_satellites, 'large':fleet_size_dc}\n",
    "             ,costs={'satellite':cost_C, 'dc':cost_G})\n",
    "\n",
    "model_.setParams(params=params_gurobi)"
   ],
   "metadata": {
    "collapsed": false
   }
  },
  {
   "cell_type": "code",
   "execution_count": null,
   "outputs": [],
   "source": [
    "print(model_.optimizeModel())"
   ],
   "metadata": {
    "collapsed": false
   }
  },
  {
   "cell_type": "code",
   "execution_count": null,
   "outputs": [],
   "source": [],
   "metadata": {
    "collapsed": false
   }
  }
 ],
 "metadata": {
  "kernelspec": {
   "display_name": "Python 3",
   "language": "python",
   "name": "python3"
  },
  "language_info": {
   "codemirror_mode": {
    "name": "ipython",
    "version": 2
   },
   "file_extension": ".py",
   "mimetype": "text/x-python",
   "name": "python",
   "nbconvert_exporter": "python",
   "pygments_lexer": "ipython2",
   "version": "2.7.6"
  }
 },
 "nbformat": 4,
 "nbformat_minor": 0
}
