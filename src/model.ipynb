{
 "cells": [
  {
   "cell_type": "markdown",
   "source": [
    "# Load Libraries"
   ],
   "metadata": {
    "collapsed": false
   }
  },
  {
   "cell_type": "code",
   "execution_count": 17,
   "outputs": [],
   "source": [
    "import pandas as pd\n",
    "import json"
   ],
   "metadata": {
    "collapsed": false
   }
  },
  {
   "cell_type": "markdown",
   "source": [
    "# Classes"
   ],
   "metadata": {
    "collapsed": false
   }
  },
  {
   "cell_type": "markdown",
   "source": [
    "## Segment"
   ],
   "metadata": {
    "collapsed": false
   }
  },
  {
   "cell_type": "code",
   "execution_count": 3,
   "metadata": {
    "collapsed": true
   },
   "outputs": [],
   "source": [
    "class Segment:\n",
    "    # All parameters are by Month\n",
    "    def __init__(self,\n",
    "                 id: str,\n",
    "                 lon: float, lat: float,\n",
    "                 areaKm: float,\n",
    "                 avgTickets: float,\n",
    "                 avgCustomers: float,\n",
    "                 avgPackages: float,\n",
    "                 avgPackagesBySales: float,\n",
    "                 packages: float,\n",
    "                 sales: float,\n",
    "                 customers: int,\n",
    "                 avgDropSize: float\n",
    "                 ):\n",
    "        self.id             =   id\n",
    "        self.geographyLocation = (lon, lat)\n",
    "        self.areaKm         =   areaKm\n",
    "        self.avgTickets     =   avgTickets\n",
    "        self.avgCustomers   =   avgCustomers\n",
    "        self.avgPackages    =   avgPackages\n",
    "        self.avgPackagesBySales =   avgPackagesBySales\n",
    "        self.packages       = packages\n",
    "        self.customers      = customers\n",
    "        self.sales          = sales\n",
    "        self.avgDropSize    = avgDropSize"
   ]
  },
  {
   "cell_type": "markdown",
   "source": [
    "## Satelite"
   ],
   "metadata": {
    "collapsed": false
   }
  },
  {
   "cell_type": "code",
   "execution_count": 34,
   "outputs": [],
   "source": [
    "class Satelite:\n",
    "    def __init__(self,\n",
    "                 id: str,\n",
    "                 lon: float, lat: float,\n",
    "                 distanceFromDC: float,\n",
    "                 durationFromDC: float,\n",
    "                 durationInTrafficFromDC: float\n",
    "                 ):\n",
    "        self.id = id\n",
    "        self.geographyLocation          = (lon, lat)\n",
    "        self.distanceFromDC             = distanceFromDC\n",
    "        self.durationFromDC             = durationFromDC\n",
    "        self.durationInTrafficFromDC    = durationInTrafficFromDC"
   ],
   "metadata": {
    "collapsed": false
   }
  },
  {
   "cell_type": "markdown",
   "source": [
    "# Functions"
   ],
   "metadata": {
    "collapsed": false
   }
  },
  {
   "cell_type": "markdown",
   "source": [
    "## Load Distances and Durations Matrix (Segment To Satelite)"
   ],
   "metadata": {
    "collapsed": false
   }
  },
  {
   "cell_type": "code",
   "execution_count": 15,
   "outputs": [],
   "source": [
    "def load_distances_duration_matrix(DEBUG = False) -> dict[str,dict]:\n",
    "    df = pd.read_csv('../others/Levantamiento de Información/Informacion Satelites a Hexagonos.csv')\n",
    "    size = len(df)\n",
    "    distance = dict(\n",
    "        [((df.Satelite[i],df.h3_address[i]),df.loc[i,\"distance.value\"]/1000) for i in range(size)]\n",
    "    )\n",
    "    duration = dict(\n",
    "        [((df.Satelite[i],df.h3_address[i]),df.loc[i,'duration.value']/3600) for i in range(size)]\n",
    "    )\n",
    "    durationInTraffic = dict(\n",
    "        [((df.Satelite[i],df.h3_address[i]),df.loc[i,'duration_in_traffic.value']/3600) for i in range(size)]\n",
    "    )\n",
    "    matrixes = {\n",
    "        \"duration\": duration,\n",
    "        \"distance\": distance,\n",
    "        \"durationInTraffic\": durationInTraffic\n",
    "    }\n",
    "    return matrixes"
   ],
   "metadata": {
    "collapsed": false
   }
  },
  {
   "cell_type": "markdown",
   "source": [
    "## Load segments"
   ],
   "metadata": {
    "collapsed": false
   }
  },
  {
   "cell_type": "code",
   "execution_count": 25,
   "outputs": [],
   "source": [
    "def load_segments(DEBUG = False) -> list[Segment]:\n",
    "    segments = []\n",
    "    df = pd.read_csv('../others/Levantamiento de Información/Caracterización de hexagonos de La Paz.csv')\n",
    "    for i in range(len(df)):\n",
    "        newSegment = Segment(str(df.h3_address[i]),\n",
    "                             df.loc[i,'lon.centroid'],\n",
    "                             df.loc[i,'lat.centroid'],\n",
    "                             df.loc[i,'area.km2'],\n",
    "                             df.loc[i,'media.boletas.mes'],\n",
    "                             df.loc[i,'media.clientes.mes'],\n",
    "                             df.loc[i,'media.suma.cajas.mes'],\n",
    "                             df.loc[i,'media.cajas.por.venta'],\n",
    "                             df.loc[i,'suma.cajas'],\n",
    "                             df.loc[i,'Cantidad.ventas'],\n",
    "                             df.loc[i,'Total.clientes'],\n",
    "                             df.loc[i,'media.cajas.cliente'])\n",
    "        segments.append(newSegment)\n",
    "    if DEBUG:\n",
    "        print(\"-\"*50)\n",
    "        print(\"Count of SEGMENTS: \", len(segments))\n",
    "        print(\"First Segment:\")\n",
    "        print(json.dumps(segments[0].__dict__,indent=2,default=str))\n",
    "    return segments"
   ],
   "metadata": {
    "collapsed": false
   }
  },
  {
   "cell_type": "markdown",
   "source": [
    "## Load satelites"
   ],
   "metadata": {
    "collapsed": false
   }
  },
  {
   "cell_type": "code",
   "execution_count": 35,
   "outputs": [],
   "source": [
    "def load_satelites(DEBUG = False) ->list[Satelite]:\n",
    "    satelites = []\n",
    "    df = pd.read_csv('../others/Levantamiento de Información/Informacion CD a Satelites.csv')\n",
    "    for i in range(len(df)):\n",
    "        newSatelite = Satelite(str(df.nombre[i]),\n",
    "                               df.longitud[i],\n",
    "                               df.latitud[i],\n",
    "                               df.loc[i,'distance.value']/1000,\n",
    "                               df.loc[i,'duration.value']/3600,\n",
    "                               df.loc[i,'duration_in_traffic.value']/3600)\n",
    "        satelites.append(newSatelite)\n",
    "    if DEBUG:\n",
    "        print(\"-\"*50)\n",
    "        print(\"Count of SATELITES: \", len(satelites))\n",
    "        print(\"First Satelite:\")\n",
    "        print(json.dumps(satelites[0].__dict__,indent=2,default=str))\n",
    "    return satelites"
   ],
   "metadata": {
    "collapsed": false
   }
  },
  {
   "cell_type": "markdown",
   "source": [
    "# Arce"
   ],
   "metadata": {
    "collapsed": false
   }
  },
  {
   "cell_type": "code",
   "execution_count": null,
   "outputs": [],
   "source": [],
   "metadata": {
    "collapsed": false
   }
  },
  {
   "cell_type": "markdown",
   "source": [
    "# Models"
   ],
   "metadata": {
    "collapsed": false
   }
  },
  {
   "cell_type": "markdown",
   "source": [
    "## Deterministic"
   ],
   "metadata": {
    "collapsed": false
   }
  },
  {
   "cell_type": "code",
   "execution_count": null,
   "outputs": [],
   "source": [
    "class Model:\n",
    "    def __init__(self,\n",
    "                 arce: dict,\n",
    "                 nameModel ='Deterministic'):\n",
    "        self.model = \"\"\n"
   ],
   "metadata": {
    "collapsed": false
   }
  }
 ],
 "metadata": {
  "kernelspec": {
   "display_name": "Python 3",
   "language": "python",
   "name": "python3"
  },
  "language_info": {
   "codemirror_mode": {
    "name": "ipython",
    "version": 2
   },
   "file_extension": ".py",
   "mimetype": "text/x-python",
   "name": "python",
   "nbconvert_exporter": "python",
   "pygments_lexer": "ipython2",
   "version": "2.7.6"
  }
 },
 "nbformat": 4,
 "nbformat_minor": 0
}
