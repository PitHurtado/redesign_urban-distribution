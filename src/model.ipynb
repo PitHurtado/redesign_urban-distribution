{
 "cells": [
  {
   "cell_type": "markdown",
   "source": [
    "# Load Libraries"
   ],
   "metadata": {
    "collapsed": false
   }
  },
  {
   "cell_type": "code",
   "execution_count": 3,
   "outputs": [],
   "source": [
    "import os\n",
    "import pandas as pd\n",
    "import numpy as np\n",
    "import json"
   ],
   "metadata": {
    "collapsed": false
   }
  },
  {
   "cell_type": "markdown",
   "source": [
    "# Classes"
   ],
   "metadata": {
    "collapsed": false
   }
  },
  {
   "cell_type": "markdown",
   "source": [
    "## Segment"
   ],
   "metadata": {
    "collapsed": false
   }
  },
  {
   "cell_type": "code",
   "execution_count": 4,
   "metadata": {
    "collapsed": true
   },
   "outputs": [],
   "source": [
    "class Segment:\n",
    "    # All parameters are by Month\n",
    "    def __init__(self,\n",
    "                 id: str,\n",
    "                 lon: float, lat: float,\n",
    "                 areaKm: float,\n",
    "                 avgTickets: float,\n",
    "                 avgCustomers: float,\n",
    "                 avgPackages: float,\n",
    "                 avgPackagesBySales: float,\n",
    "                 packages: float,\n",
    "                 sales: float,\n",
    "                 customers: int,\n",
    "                 avgDropSize: float,\n",
    "                 setSatelitesCoverage: list[str],\n",
    "                 costServedFromDC: int, # este se debe calcular con ARCE (***)\n",
    "                 ):\n",
    "        self.id             =   id\n",
    "        self.geographyLocation = (lon, lat)\n",
    "        self.areaKm         =   areaKm\n",
    "        self.avgTickets     =   avgTickets\n",
    "        self.avgCustomers   =   avgCustomers\n",
    "        self.avgPackages    =   avgPackages\n",
    "        self.avgPackagesBySales =   avgPackagesBySales\n",
    "        self.packages       = packages\n",
    "        self.customers      = customers\n",
    "        self.sales          = sales\n",
    "        self.avgDropSize    = avgDropSize\n",
    "        self.setSateliteCoverage = setSatelitesCoverage\n",
    "        self.costServedFromDC = costServedFromDC"
   ]
  },
  {
   "cell_type": "markdown",
   "source": [
    "## Satelite"
   ],
   "metadata": {
    "collapsed": false
   }
  },
  {
   "cell_type": "code",
   "execution_count": 30,
   "outputs": [],
   "source": [
    "class Satelite:\n",
    "    def __init__(self,\n",
    "                 id: str,\n",
    "                 lon: float, lat: float,\n",
    "                 distanceFromDC: float,\n",
    "                 durationFromDC: float,\n",
    "                 durationInTrafficFromDC: float,\n",
    "                 capacity: dict[str,int],\n",
    "                 numberVehiclesAvailable : dict[str,int],\n",
    "                 costFixed: dict[str,int],\n",
    "                 setSegmentCoverage: list[str],\n",
    "                 ):\n",
    "        self.id = id\n",
    "        self.geographyLocation          = (lon, lat)\n",
    "        self.distanceFromDC             = distanceFromDC\n",
    "        self.durationFromDC             = durationFromDC\n",
    "        self.durationInTrafficFromDC    = durationInTrafficFromDC\n",
    "        self.capacity                   = capacity\n",
    "        self.numberVehiclesAvailable    = numberVehiclesAvailable\n",
    "        self.costFixed                  = costFixed\n",
    "        self.setSegmentCoverage         = setSegmentCoverage"
   ],
   "metadata": {
    "collapsed": false
   }
  },
  {
   "cell_type": "markdown",
   "source": [
    "# Model"
   ],
   "metadata": {
    "collapsed": false
   }
  },
  {
   "cell_type": "markdown",
   "source": [
    "## Deterministic"
   ],
   "metadata": {
    "collapsed": false
   }
  },
  {
   "cell_type": "code",
   "execution_count": null,
   "outputs": [],
   "source": [
    "class Model:\n",
    "\n",
    "    def __init__(self, arce: dict[(str,str),any], nameModel = \"Deterministic\"):\n",
    "        self.model = gb.Model(nameModel)\n",
    "        # variables\n",
    "        self.X = {}\n",
    "        self.Y = {}\n",
    "        self.W = {}\n",
    "\n",
    "        #param arce\n",
    "        self.arce = arce\n",
    "\n",
    "        #objetive & metrics\n",
    "        self.results = {}\n",
    "        self.metrics = {}\n",
    "\n",
    "    def build(self, segments: list[Segment], satelites: list[Satelite]):\n",
    "        self.model.reset()\n",
    "        # variables\n",
    "        self.__addVariables(segments, satelites)\n",
    "        # objective\n",
    "        self.__addObjetive(segments, satelites)\n",
    "        # constraints\n",
    "        self.__addConstr_LocationSatelite()\n",
    "        self.__addConstr_CapacitySatelite()\n",
    "        self.__addConstr_DemandSatified()\n",
    "\n",
    "    def __addVariables(self, segments: list[Segment], satelites: list[Satelite]):\n",
    "        self.Y = dict(\n",
    "            [((s.id,q), self.model.addVar(vtype=GRB.BINARY, name=\"Y_s%s_q%s\" %(s.id,q))) for s in satelites for q in s.capacity.keys()]\n",
    "        )\n",
    "        self.X = dict(\n",
    "            [((s.id,k.id), self.model.addVar(vtype=GRB.BINARY, name=\"X_s%s_k%s\" %(s.id,k.id))) for s in satelites for k in segments]\n",
    "        )\n",
    "        self.W  = dict(\n",
    "            [((k.id), self.model.addVar(vtype=GRB.BINARY, name=\"W_k%s\" % (k.id))) for k in segments]\n",
    "        )\n",
    "\n",
    "    def __addObjective(self, segments: list[Segment], satelites: list[Satelite]):\n",
    "        costLocation = quicksum(\n",
    "            [s.costFixed[q]*self.Y[(s.id,q)] for s in satelites for q in s.capacity.keys()]\n",
    "        )\n",
    "        cost_2e = quicksum(\n",
    "            [self.arce[(s_id,k.id)][\"totalCost\"]*self.X[(s_id,k.id)] for k in segments for s_id in k.setSateliteCoverage]\n",
    "        )\n",
    "        cost_1e = quicksum(\n",
    "            [k.costServedFromDC*self.W[(k.id)] for k in segments]\n",
    "        )\n",
    "        costTotal = cost_1e + cost_2e + costLocation\n",
    "\n",
    "        self.model.setObjective(costTotal, GRB.MINIMIZE)\n",
    "\n",
    "    def __addConstr_LocationSatelite(self, satelites: list[Satelite]):\n",
    "        for s in satelites:\n",
    "            nameConstraint = \"R_Open_s\"+str(s.id)\n",
    "            self.model.addConstr(\n",
    "                quicksum([self.Y[(s.id,q)] for q in s.capacity.keys()]) <= 1\n",
    "                , name=nameConstraint\n",
    "            )\n",
    "\n",
    "    def __addConstr_CapacitySatelite(self, satelites: list[Satelite]):\n",
    "        for s in satelites:\n",
    "            nameConstraint = \"R_capacity_\"+str(s.id)\n",
    "            self.model.addConstr(\n",
    "                quicksum(\n",
    "                    [self.arce[(s.id,k_id)]['fleetSize']*self.X[(s.id,k_id)] for k_id in s.setSegmentCoverage]\n",
    "                )\n",
    "                - quicksum(\n",
    "                    [s.numberVehiclesAvailable[q]*self.Y[(s.id,q)] for q in s.capacity.keys()]\n",
    "                )\n",
    "                <= 0\n",
    "                , name=nameConstraint\n",
    "            )\n",
    "\n",
    "    def __addConstr_DemandSatified(self, segments: list[Segment]):\n",
    "        for k in segments:\n",
    "            nameConstraint = \"R_Demand_k\"+str(k.id)\n",
    "            self.model.addConstr(\n",
    "                quicksum(\n",
    "                    [self.X[(s_id,k.id)] for s_id in k.setSateliteCoverage].append(self.W[(k.id)])\n",
    "                )\n",
    "                == 1\n",
    "                , name=nameConstraint\n",
    "            )\n",
    "\n",
    "    def optimizeModel(self) -> str:\n",
    "        self.model.optimize()\n",
    "        return self.model.Status\n",
    "\n",
    "    def showModel(self):\n",
    "        self.model.display()\n",
    "\n",
    "    def setParams(self, params: dict[str,int]):\n",
    "        for key, item in params.items():\n",
    "            self.model.setParam(key,item)"
   ],
   "metadata": {
    "collapsed": false
   }
  },
  {
   "cell_type": "markdown",
   "source": [
    "# Functions"
   ],
   "metadata": {
    "collapsed": false
   }
  },
  {
   "cell_type": "markdown",
   "source": [
    "## Load Distances and Durations Matrix (Satelite to Segment)"
   ],
   "metadata": {
    "collapsed": false
   }
  },
  {
   "cell_type": "code",
   "execution_count": 44,
   "outputs": [],
   "source": [
    "def load_distances_duration_matrix(DEBUG = False) -> dict[str,dict]:\n",
    "    df = pd.read_csv('../others/Levantamiento de Información/Informacion Satelites a Hexagonos.csv')\n",
    "    size = len(df)\n",
    "    distance = dict(\n",
    "        [((df.Satelite[i],df.h3_address[i]),df.loc[i,\"distance.value\"]/1000) for i in range(size)]\n",
    "    )\n",
    "    duration = dict(\n",
    "        [((df.Satelite[i],df.h3_address[i]),df.loc[i,'duration.value']/3600) for i in range(size)]\n",
    "    )\n",
    "    durationInTraffic = dict(\n",
    "        [((df.Satelite[i],df.h3_address[i]),df.loc[i,'duration_in_traffic.value']/3600) for i in range(size)]\n",
    "    )\n",
    "    matrixes = {\n",
    "        \"duration\": duration,\n",
    "        \"distance\": distance,\n",
    "        \"durationInTraffic\": durationInTraffic\n",
    "    }\n",
    "    if DEBUG:\n",
    "        print(\"-\"*50)\n",
    "        print(\"Count - distance: \", size)\n",
    "        print(\"Count - duration: \", size)\n",
    "        print(\"Count - duration in traffic: \", size)\n",
    "    return matrixes"
   ],
   "metadata": {
    "collapsed": false
   }
  },
  {
   "cell_type": "markdown",
   "source": [
    "## Load segments"
   ],
   "metadata": {
    "collapsed": false
   }
  },
  {
   "cell_type": "code",
   "execution_count": 33,
   "outputs": [],
   "source": [
    "def load_segments(DEBUG = False) -> list[Segment]:\n",
    "    segments = []\n",
    "    df = pd.read_csv('../others/Levantamiento de Información/Caracterización de hexagonos de La Paz.csv')\n",
    "    df.fillna(0, inplace=True)\n",
    "    for i in range(len(df)):\n",
    "        setSatelitesCoverage = [\"empty\"]\n",
    "        costServedFromDC = -1\n",
    "        newSegment = Segment(str(df.h3_address[i]),\n",
    "                             df.loc[i,'lon.centroid'],\n",
    "                             df.loc[i,'lat.centroid'],\n",
    "                             df.loc[i,'area.km2'],\n",
    "                             df.loc[i,'media.boletas.mes'],\n",
    "                             df.loc[i,'media.clientes.mes'],\n",
    "                             df.loc[i,'media.suma.cajas.mes'],\n",
    "                             df.loc[i,'media.cajas.por.venta'],\n",
    "                             df.loc[i,'suma.cajas'],\n",
    "                             df.loc[i,'Cantidad.ventas'],\n",
    "                             df.loc[i,'Total.clientes'],\n",
    "                             df.loc[i,'media.cajas.cliente'],\n",
    "                             setSatelitesCoverage,\n",
    "                             costServedFromDC,\n",
    "                             )\n",
    "        segments.append(newSegment)\n",
    "    if DEBUG:\n",
    "        print(\"-\"*50)\n",
    "        print(\"Count of SEGMENTS: \", len(segments))\n",
    "        print(\"First Segment:\")\n",
    "        print(json.dumps(segments[0].__dict__,indent=2,default=str))\n",
    "    return segments"
   ],
   "metadata": {
    "collapsed": false
   }
  },
  {
   "cell_type": "markdown",
   "source": [
    "## Load satelites"
   ],
   "metadata": {
    "collapsed": false
   }
  },
  {
   "cell_type": "code",
   "execution_count": 34,
   "outputs": [],
   "source": [
    "def load_satelites(DEBUG = False) ->list[Satelite]:\n",
    "    satelites = []\n",
    "    df = pd.read_csv('../others/Levantamiento de Información/Informacion CD a Satelites.csv')\n",
    "    df.fillna(0, inplace=True)\n",
    "    for i in range(len(df)):\n",
    "        capacity = {}\n",
    "        numberVehiclesAvailable = {}\n",
    "        costFixed = {}\n",
    "        setSegmentCoverage = ['empty']\n",
    "        newSatelite = Satelite(str(df.nombre[i]),\n",
    "                               df.longitud[i],\n",
    "                               df.latitud[i],\n",
    "                               df.loc[i,'distance.value']/1000,\n",
    "                               df.loc[i,'duration.value']/3600,\n",
    "                               df.loc[i,'duration_in_traffic.value']/3600,\n",
    "                               capacity,\n",
    "                               numberVehiclesAvailable,\n",
    "                               costFixed,\n",
    "                               setSegmentCoverage,\n",
    "                               )\n",
    "        satelites.append(newSatelite)\n",
    "    if DEBUG:\n",
    "        print(\"-\"*50)\n",
    "        print(\"Count of SATELITES: \", len(satelites))\n",
    "        print(\"First Satelite:\")\n",
    "        print(json.dumps(satelites[0].__dict__,indent=2,default=str))\n",
    "    return satelites"
   ],
   "metadata": {
    "collapsed": false
   }
  },
  {
   "cell_type": "markdown",
   "source": [
    "# Arce"
   ],
   "metadata": {
    "collapsed": false
   }
  },
  {
   "cell_type": "code",
   "execution_count": 34,
   "outputs": [],
   "source": [],
   "metadata": {
    "collapsed": false
   }
  },
  {
   "cell_type": "markdown",
   "source": [
    "# MAIN"
   ],
   "metadata": {
    "collapsed": false
   }
  },
  {
   "cell_type": "markdown",
   "source": [
    "## Deterministic"
   ],
   "metadata": {
    "collapsed": false
   }
  },
  {
   "cell_type": "code",
   "execution_count": 36,
   "outputs": [
    {
     "name": "stdout",
     "output_type": "stream",
     "text": [
      "--------------------------------------------------\n",
      "Count of SEGMENTS:  881\n",
      "First Segment:\n",
      "{\n",
      "  \"id\": \"89b3218a69bffff\",\n",
      "  \"geographyLocation\": [\n",
      "    -68.0308444046886,\n",
      "    -16.577683655286\n",
      "  ],\n",
      "  \"areaKm\": 0.111550134969712,\n",
      "  \"avgTickets\": 0.0,\n",
      "  \"avgCustomers\": 0.0,\n",
      "  \"avgPackages\": 0.0,\n",
      "  \"avgPackagesBySales\": 0.0,\n",
      "  \"packages\": 0.0,\n",
      "  \"customers\": 0.0,\n",
      "  \"sales\": 0.0,\n",
      "  \"avgDropSize\": 0.0,\n",
      "  \"setSateliteCoverage\": [\n",
      "    \"empty\"\n",
      "  ],\n",
      "  \"costServedFromDC\": -1\n",
      "}\n"
     ]
    }
   ],
   "source": [
    "df = load_segments(True)"
   ],
   "metadata": {
    "collapsed": false
   }
  },
  {
   "cell_type": "code",
   "execution_count": 37,
   "outputs": [
    {
     "name": "stdout",
     "output_type": "stream",
     "text": [
      "--------------------------------------------------\n",
      "Count of SATELITES:  9\n",
      "First Satelite:\n",
      "{\n",
      "  \"id\": \"Abaroa\",\n",
      "  \"geographyLocation\": [\n",
      "    -68.128476,\n",
      "    -16.512483\n",
      "  ],\n",
      "  \"distanceFromDC\": 11.117,\n",
      "  \"durationFromDC\": 0.5772222222222222,\n",
      "  \"durationInTrafficFromDC\": 0.6044444444444445,\n",
      "  \"capacity\": {},\n",
      "  \"numberVehiclesAvailable\": {},\n",
      "  \"costFixed\": {},\n",
      "  \"setSegmentCoverage\": [\n",
      "    \"empty\"\n",
      "  ]\n",
      "}\n"
     ]
    }
   ],
   "source": [
    "df = load_satelites(True)"
   ],
   "metadata": {
    "collapsed": false
   }
  },
  {
   "cell_type": "code",
   "execution_count": 45,
   "outputs": [
    {
     "name": "stdout",
     "output_type": "stream",
     "text": [
      "--------------------------------------------------\n",
      "Count - distance:  7929\n",
      "Count - duration:  7929\n",
      "Count - duration in traffic:  7929\n"
     ]
    }
   ],
   "source": [
    "matrix = load_distances_duration_matrix(True)"
   ],
   "metadata": {
    "collapsed": false
   }
  },
  {
   "cell_type": "code",
   "execution_count": 46,
   "outputs": [
    {
     "data": {
      "text/plain": "7929"
     },
     "execution_count": 46,
     "metadata": {},
     "output_type": "execute_result"
    }
   ],
   "source": [
    "881*9"
   ],
   "metadata": {
    "collapsed": false
   }
  },
  {
   "cell_type": "code",
   "execution_count": null,
   "outputs": [],
   "source": [],
   "metadata": {
    "collapsed": false
   }
  }
 ],
 "metadata": {
  "kernelspec": {
   "display_name": "Python 3",
   "language": "python",
   "name": "python3"
  },
  "language_info": {
   "codemirror_mode": {
    "name": "ipython",
    "version": 2
   },
   "file_extension": ".py",
   "mimetype": "text/x-python",
   "name": "python",
   "nbconvert_exporter": "python",
   "pygments_lexer": "ipython2",
   "version": "2.7.6"
  }
 },
 "nbformat": 4,
 "nbformat_minor": 0
}
