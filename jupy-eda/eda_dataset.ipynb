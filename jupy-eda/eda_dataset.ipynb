{
 "cells": [
  {
   "cell_type": "markdown",
   "source": [
    "# EDA"
   ],
   "metadata": {
    "collapsed": false
   }
  },
  {
   "cell_type": "markdown",
   "source": [
    "# Libraries"
   ],
   "metadata": {
    "collapsed": false
   }
  },
  {
   "cell_type": "code",
   "execution_count": 1,
   "metadata": {
    "collapsed": true
   },
   "outputs": [],
   "source": [
    "import pandas as pd\n",
    "import os"
   ]
  },
  {
   "cell_type": "code",
   "execution_count": 5,
   "outputs": [
    {
     "data": {
      "text/plain": "        nombre    latitud   longitud distance.text  distance.value  \\\n0       Abaroa -16.512483 -68.128476       11.1 km           11117   \n1      Llojeta -16.527796 -68.129577       12.7 km           12657   \n2    Cota Cota -16.538659 -68.060496       23.9 km           23929   \n3  Achachicala -16.483875 -68.147618       16.8 km           16794   \n4      Mallasa -16.570317 -68.085339       20.6 km           20593   \n\n  duration.text  duration.value duration_in_traffic.text  \\\n0       35 mins            2078                  36 mins   \n1       31 mins            1889                  33 mins   \n2       54 mins            3216                  58 mins   \n3       31 mins            1852                  36 mins   \n4       46 mins            2778                  47 mins   \n\n   duration_in_traffic.value status  \n0                       2176     OK  \n1                       1998     OK  \n2                       3501     OK  \n3                       2186     OK  \n4                       2829     OK  ",
      "text/html": "<div>\n<style scoped>\n    .dataframe tbody tr th:only-of-type {\n        vertical-align: middle;\n    }\n\n    .dataframe tbody tr th {\n        vertical-align: top;\n    }\n\n    .dataframe thead th {\n        text-align: right;\n    }\n</style>\n<table border=\"1\" class=\"dataframe\">\n  <thead>\n    <tr style=\"text-align: right;\">\n      <th></th>\n      <th>nombre</th>\n      <th>latitud</th>\n      <th>longitud</th>\n      <th>distance.text</th>\n      <th>distance.value</th>\n      <th>duration.text</th>\n      <th>duration.value</th>\n      <th>duration_in_traffic.text</th>\n      <th>duration_in_traffic.value</th>\n      <th>status</th>\n    </tr>\n  </thead>\n  <tbody>\n    <tr>\n      <th>0</th>\n      <td>Abaroa</td>\n      <td>-16.512483</td>\n      <td>-68.128476</td>\n      <td>11.1 km</td>\n      <td>11117</td>\n      <td>35 mins</td>\n      <td>2078</td>\n      <td>36 mins</td>\n      <td>2176</td>\n      <td>OK</td>\n    </tr>\n    <tr>\n      <th>1</th>\n      <td>Llojeta</td>\n      <td>-16.527796</td>\n      <td>-68.129577</td>\n      <td>12.7 km</td>\n      <td>12657</td>\n      <td>31 mins</td>\n      <td>1889</td>\n      <td>33 mins</td>\n      <td>1998</td>\n      <td>OK</td>\n    </tr>\n    <tr>\n      <th>2</th>\n      <td>Cota Cota</td>\n      <td>-16.538659</td>\n      <td>-68.060496</td>\n      <td>23.9 km</td>\n      <td>23929</td>\n      <td>54 mins</td>\n      <td>3216</td>\n      <td>58 mins</td>\n      <td>3501</td>\n      <td>OK</td>\n    </tr>\n    <tr>\n      <th>3</th>\n      <td>Achachicala</td>\n      <td>-16.483875</td>\n      <td>-68.147618</td>\n      <td>16.8 km</td>\n      <td>16794</td>\n      <td>31 mins</td>\n      <td>1852</td>\n      <td>36 mins</td>\n      <td>2186</td>\n      <td>OK</td>\n    </tr>\n    <tr>\n      <th>4</th>\n      <td>Mallasa</td>\n      <td>-16.570317</td>\n      <td>-68.085339</td>\n      <td>20.6 km</td>\n      <td>20593</td>\n      <td>46 mins</td>\n      <td>2778</td>\n      <td>47 mins</td>\n      <td>2829</td>\n      <td>OK</td>\n    </tr>\n  </tbody>\n</table>\n</div>"
     },
     "execution_count": 5,
     "metadata": {},
     "output_type": "execute_result"
    }
   ],
   "source": [
    "df_satelites = pd.read_csv('../others/Levantamiento de Información/Informacion CD a Satelites.csv')\n",
    "df_satelites.head()"
   ],
   "metadata": {
    "collapsed": false
   }
  },
  {
   "cell_type": "code",
   "execution_count": 6,
   "outputs": [
    {
     "data": {
      "text/plain": "        h3_address  lon.centroid  lat.centroid        area.m2  area.km2  \\\n0  89b3218a69bffff    -68.030844    -16.577684  111550.134970  0.111550   \n1  89b3218b003ffff    -68.073169    -16.608993  111596.259373  0.111596   \n2  89b3218b007ffff    -68.070413    -16.610737  111590.812619  0.111591   \n3  89b3218b017ffff    -68.070192    -16.607459  111592.591714  0.111593   \n4  89b3218b023ffff    -68.067879    -16.615759  111583.584631  0.111584   \n\n   media.boletas.mes  media.clientes.mes  media.suma.cajas.mes  \\\n0                NaN                 NaN                   NaN   \n1                NaN                 NaN                   NaN   \n2                NaN                 NaN                   NaN   \n3                NaN                 NaN                   NaN   \n4                NaN                 NaN                   NaN   \n\n   Cantidad.ventas  suma.cajas  media.cajas.por.venta  Total.clientes  \\\n0              NaN         NaN                    NaN             NaN   \n1              NaN         NaN                    NaN             NaN   \n2              NaN         NaN                    NaN             NaN   \n3              NaN         NaN                    NaN             NaN   \n4              NaN         NaN                    NaN             NaN   \n\n   media.cajas.cliente  \n0                  NaN  \n1                  NaN  \n2                  NaN  \n3                  NaN  \n4                  NaN  ",
      "text/html": "<div>\n<style scoped>\n    .dataframe tbody tr th:only-of-type {\n        vertical-align: middle;\n    }\n\n    .dataframe tbody tr th {\n        vertical-align: top;\n    }\n\n    .dataframe thead th {\n        text-align: right;\n    }\n</style>\n<table border=\"1\" class=\"dataframe\">\n  <thead>\n    <tr style=\"text-align: right;\">\n      <th></th>\n      <th>h3_address</th>\n      <th>lon.centroid</th>\n      <th>lat.centroid</th>\n      <th>area.m2</th>\n      <th>area.km2</th>\n      <th>media.boletas.mes</th>\n      <th>media.clientes.mes</th>\n      <th>media.suma.cajas.mes</th>\n      <th>Cantidad.ventas</th>\n      <th>suma.cajas</th>\n      <th>media.cajas.por.venta</th>\n      <th>Total.clientes</th>\n      <th>media.cajas.cliente</th>\n    </tr>\n  </thead>\n  <tbody>\n    <tr>\n      <th>0</th>\n      <td>89b3218a69bffff</td>\n      <td>-68.030844</td>\n      <td>-16.577684</td>\n      <td>111550.134970</td>\n      <td>0.111550</td>\n      <td>NaN</td>\n      <td>NaN</td>\n      <td>NaN</td>\n      <td>NaN</td>\n      <td>NaN</td>\n      <td>NaN</td>\n      <td>NaN</td>\n      <td>NaN</td>\n    </tr>\n    <tr>\n      <th>1</th>\n      <td>89b3218b003ffff</td>\n      <td>-68.073169</td>\n      <td>-16.608993</td>\n      <td>111596.259373</td>\n      <td>0.111596</td>\n      <td>NaN</td>\n      <td>NaN</td>\n      <td>NaN</td>\n      <td>NaN</td>\n      <td>NaN</td>\n      <td>NaN</td>\n      <td>NaN</td>\n      <td>NaN</td>\n    </tr>\n    <tr>\n      <th>2</th>\n      <td>89b3218b007ffff</td>\n      <td>-68.070413</td>\n      <td>-16.610737</td>\n      <td>111590.812619</td>\n      <td>0.111591</td>\n      <td>NaN</td>\n      <td>NaN</td>\n      <td>NaN</td>\n      <td>NaN</td>\n      <td>NaN</td>\n      <td>NaN</td>\n      <td>NaN</td>\n      <td>NaN</td>\n    </tr>\n    <tr>\n      <th>3</th>\n      <td>89b3218b017ffff</td>\n      <td>-68.070192</td>\n      <td>-16.607459</td>\n      <td>111592.591714</td>\n      <td>0.111593</td>\n      <td>NaN</td>\n      <td>NaN</td>\n      <td>NaN</td>\n      <td>NaN</td>\n      <td>NaN</td>\n      <td>NaN</td>\n      <td>NaN</td>\n      <td>NaN</td>\n    </tr>\n    <tr>\n      <th>4</th>\n      <td>89b3218b023ffff</td>\n      <td>-68.067879</td>\n      <td>-16.615759</td>\n      <td>111583.584631</td>\n      <td>0.111584</td>\n      <td>NaN</td>\n      <td>NaN</td>\n      <td>NaN</td>\n      <td>NaN</td>\n      <td>NaN</td>\n      <td>NaN</td>\n      <td>NaN</td>\n      <td>NaN</td>\n    </tr>\n  </tbody>\n</table>\n</div>"
     },
     "execution_count": 6,
     "metadata": {},
     "output_type": "execute_result"
    }
   ],
   "source": [
    "df_hexa = pd.read_csv('../others/Levantamiento de Información/Caracterización de hexagonos de La Paz.csv')\n",
    "df_hexa.head()"
   ],
   "metadata": {
    "collapsed": false
   }
  },
  {
   "cell_type": "code",
   "execution_count": 7,
   "outputs": [
    {
     "data": {
      "text/plain": "        h3_address  lat.centroid  lon.centroid     Satelite  lat.satelites  \\\n0  89b321d6033ffff    -16.517695    -68.141718       Abaroa     -16.512483   \n1  89b321d6033ffff    -16.517695    -68.141718      Llojeta     -16.527796   \n2  89b321d6033ffff    -16.517695    -68.141718    Cota Cota     -16.538659   \n3  89b321d6033ffff    -16.517695    -68.141718  Achachicala     -16.483875   \n4  89b321d6033ffff    -16.517695    -68.141718      Mallasa     -16.570317   \n\n   lon.satelites distance.text  distance.value duration.text  duration.value  \\\n0     -68.128476        3.3 km            3294       10 mins             588   \n1     -68.129577        4.7 km            4731       11 mins             686   \n2     -68.060496       14.3 km           14282       31 mins            1861   \n3     -68.147618        5.0 km            4958       20 mins            1194   \n4     -68.085339       14.5 km           14510       31 mins            1875   \n\n  duration_in_traffic.text  duration_in_traffic.value status  \n0                   9 mins                        558     OK  \n1                  12 mins                        712     OK  \n2                  32 mins                       1922     OK  \n3                  18 mins                       1054     OK  \n4                  32 mins                       1909     OK  ",
      "text/html": "<div>\n<style scoped>\n    .dataframe tbody tr th:only-of-type {\n        vertical-align: middle;\n    }\n\n    .dataframe tbody tr th {\n        vertical-align: top;\n    }\n\n    .dataframe thead th {\n        text-align: right;\n    }\n</style>\n<table border=\"1\" class=\"dataframe\">\n  <thead>\n    <tr style=\"text-align: right;\">\n      <th></th>\n      <th>h3_address</th>\n      <th>lat.centroid</th>\n      <th>lon.centroid</th>\n      <th>Satelite</th>\n      <th>lat.satelites</th>\n      <th>lon.satelites</th>\n      <th>distance.text</th>\n      <th>distance.value</th>\n      <th>duration.text</th>\n      <th>duration.value</th>\n      <th>duration_in_traffic.text</th>\n      <th>duration_in_traffic.value</th>\n      <th>status</th>\n    </tr>\n  </thead>\n  <tbody>\n    <tr>\n      <th>0</th>\n      <td>89b321d6033ffff</td>\n      <td>-16.517695</td>\n      <td>-68.141718</td>\n      <td>Abaroa</td>\n      <td>-16.512483</td>\n      <td>-68.128476</td>\n      <td>3.3 km</td>\n      <td>3294</td>\n      <td>10 mins</td>\n      <td>588</td>\n      <td>9 mins</td>\n      <td>558</td>\n      <td>OK</td>\n    </tr>\n    <tr>\n      <th>1</th>\n      <td>89b321d6033ffff</td>\n      <td>-16.517695</td>\n      <td>-68.141718</td>\n      <td>Llojeta</td>\n      <td>-16.527796</td>\n      <td>-68.129577</td>\n      <td>4.7 km</td>\n      <td>4731</td>\n      <td>11 mins</td>\n      <td>686</td>\n      <td>12 mins</td>\n      <td>712</td>\n      <td>OK</td>\n    </tr>\n    <tr>\n      <th>2</th>\n      <td>89b321d6033ffff</td>\n      <td>-16.517695</td>\n      <td>-68.141718</td>\n      <td>Cota Cota</td>\n      <td>-16.538659</td>\n      <td>-68.060496</td>\n      <td>14.3 km</td>\n      <td>14282</td>\n      <td>31 mins</td>\n      <td>1861</td>\n      <td>32 mins</td>\n      <td>1922</td>\n      <td>OK</td>\n    </tr>\n    <tr>\n      <th>3</th>\n      <td>89b321d6033ffff</td>\n      <td>-16.517695</td>\n      <td>-68.141718</td>\n      <td>Achachicala</td>\n      <td>-16.483875</td>\n      <td>-68.147618</td>\n      <td>5.0 km</td>\n      <td>4958</td>\n      <td>20 mins</td>\n      <td>1194</td>\n      <td>18 mins</td>\n      <td>1054</td>\n      <td>OK</td>\n    </tr>\n    <tr>\n      <th>4</th>\n      <td>89b321d6033ffff</td>\n      <td>-16.517695</td>\n      <td>-68.141718</td>\n      <td>Mallasa</td>\n      <td>-16.570317</td>\n      <td>-68.085339</td>\n      <td>14.5 km</td>\n      <td>14510</td>\n      <td>31 mins</td>\n      <td>1875</td>\n      <td>32 mins</td>\n      <td>1909</td>\n      <td>OK</td>\n    </tr>\n  </tbody>\n</table>\n</div>"
     },
     "execution_count": 7,
     "metadata": {},
     "output_type": "execute_result"
    }
   ],
   "source": [
    "df_matrix = pd.read_csv('../others/Levantamiento de Información/Informacion Satelites a Hexagonos.csv')\n",
    "df_matrix.head()"
   ],
   "metadata": {
    "collapsed": false
   }
  },
  {
   "cell_type": "code",
   "execution_count": null,
   "outputs": [],
   "source": [],
   "metadata": {
    "collapsed": false
   }
  }
 ],
 "metadata": {
  "kernelspec": {
   "display_name": "Python 3",
   "language": "python",
   "name": "python3"
  },
  "language_info": {
   "codemirror_mode": {
    "name": "ipython",
    "version": 2
   },
   "file_extension": ".py",
   "mimetype": "text/x-python",
   "name": "python",
   "nbconvert_exporter": "python",
   "pygments_lexer": "ipython2",
   "version": "2.7.6"
  }
 },
 "nbformat": 4,
 "nbformat_minor": 0
}
